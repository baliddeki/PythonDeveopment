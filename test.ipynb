{
 "cells": [
  {
   "cell_type": "code",
   "execution_count": 27,
   "metadata": {},
   "outputs": [],
   "source": [
    "import pandas as pd\n",
    "from tensorflow.keras.models import Sequential\n",
    "from tensorflow.keras.layers import Conv2D, MaxPooling2D, Flatten, Dense\n",
    "from tensorflow.keras.preprocessing.image import ImageDataGenerator\n",
    "from sklearn.preprocessing import LabelEncoder, OneHotEncoder\n",
    "\n",
    "\n",
    "from sklearn.preprocessing import LabelEncoder\n",
    "\n",
    "import numpy as np\n",
    "import matplotlib.pyplot as plt\n",
    "import seaborn as sns\n",
    "import json\n",
    "import requests\n",
    "import csv\n",
    "import urllib.request\n",
    "%matplotlib inline\n",
    "import cv2\n",
    "import librosa\n",
    "import numpy as np\n",
    "import os\n",
    "import librosa.display\n",
    "import seaborn as sns\n",
    "from matplotlib import pyplot as plt\n",
    "import tensorflow_io as tfio\n",
    "import tensorflow as tf\n",
    "import librosa\n",
    "import librosa.display\n",
    "from sklearn.model_selection import train_test_split\n",
    "from scipy.ndimage import zoom # ensures that audios have same shape\n"
   ]
  },
  {
   "cell_type": "code",
   "execution_count": 28,
   "metadata": {},
   "outputs": [],
   "source": [
    "\n",
    "\n",
    "def preprocess_audio_file(audio_file_path, target_sr=22050, fixed_shape=(128, 128)):\n",
    "    # Load the audio file and convert it to a spectrogram\n",
    "    y, sr = librosa.load(audio_file_path, sr=target_sr)\n",
    "    spectrogram = librosa.feature.melspectrogram(y=y, sr=sr)\n",
    "    spectrogram_db = librosa.power_to_db(spectrogram, ref=np.max)\n",
    "    \n",
    "    # Resize the spectrogram to the fixed shape\n",
    "    resized_spectrogram = zoom(spectrogram_db, (fixed_shape[0] / spectrogram_db.shape[0], fixed_shape[1] / spectrogram_db.shape[1]))\n",
    "    \n",
    "    # Convert the resized spectrogram to a 4D array for model input\n",
    "    input_data = np.expand_dims(resized_spectrogram, axis=-1)\n",
    "    \n",
    "    # Add the batch dimension\n",
    "    input_data = np.expand_dims(input_data, axis=0)\n",
    "    \n",
    "    return input_data\n"
   ]
  },
  {
   "cell_type": "code",
   "execution_count": 29,
   "metadata": {},
   "outputs": [],
   "source": [
    "from tensorflow.keras.models import load_model\n",
    "\n",
    "# Assuming you have saved the trained model as 'bird_call_classifier_model.h5'\n",
    "model = load_model('bird_call_classifier_model.keras')\n"
   ]
  },
  {
   "cell_type": "code",
   "execution_count": 30,
   "metadata": {},
   "outputs": [],
   "source": [
    "def predict_audio_file(model, audio_file_path):\n",
    "    # Preprocess the audio file\n",
    "    input_data = preprocess_audio_file(audio_file_path)\n",
    "    \n",
    "    # Perform prediction using the model\n",
    "    predictions = model.predict(input_data)\n",
    "    \n",
    "    # Get the predicted class\n",
    "    predicted_class_index = np.argmax(predictions)\n",
    "    \n",
    "    # Assuming you have a list 'class_names' that maps class indices to class names\n",
    "    class_names = ['bird_alarm_calls', 'bird_duet_calls', 'other_bird_calls']\n",
    "    predicted_class = class_names[predicted_class_index]\n",
    "    \n",
    "    return predicted_class\n"
   ]
  },
  {
   "cell_type": "code",
   "execution_count": 34,
   "metadata": {},
   "outputs": [
    {
     "name": "stdout",
     "output_type": "stream",
     "text": [
      "1/1 [==============================] - 0s 56ms/step\n",
      "Predicted Class: other_bird_calls\n"
     ]
    }
   ],
   "source": [
    "audio_file_path = 'bird_sounds/alarm_calls/245204.mp3'\n",
    "predicted_class = predict_audio_file(model, audio_file_path)\n",
    "print(\"Predicted Class:\", predicted_class)\n"
   ]
  },
  {
   "cell_type": "code",
   "execution_count": null,
   "metadata": {},
   "outputs": [],
   "source": []
  }
 ],
 "metadata": {
  "kernelspec": {
   "display_name": "Python 3",
   "language": "python",
   "name": "python3"
  },
  "language_info": {
   "codemirror_mode": {
    "name": "ipython",
    "version": 3
   },
   "file_extension": ".py",
   "mimetype": "text/x-python",
   "name": "python",
   "nbconvert_exporter": "python",
   "pygments_lexer": "ipython3",
   "version": "3.9.13"
  },
  "orig_nbformat": 4
 },
 "nbformat": 4,
 "nbformat_minor": 2
}
